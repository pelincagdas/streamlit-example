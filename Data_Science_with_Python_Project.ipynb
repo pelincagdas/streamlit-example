{
  "nbformat": 4,
  "nbformat_minor": 0,
  "metadata": {
    "colab": {
      "provenance": [],
      "include_colab_link": true
    },
    "kernelspec": {
      "name": "python3",
      "display_name": "Python 3"
    },
    "language_info": {
      "name": "python"
    }
  },
  "cells": [
    {
      "cell_type": "markdown",
      "metadata": {
        "id": "view-in-github",
        "colab_type": "text"
      },
      "source": [
        "<a href=\"https://colab.research.google.com/github/pelincagdas/streamlit-example/blob/master/Data_Science_with_Python_Project.ipynb\" target=\"_parent\"><img src=\"https://colab.research.google.com/assets/colab-badge.svg\" alt=\"Open In Colab\"/></a>"
      ]
    },
    {
      "cell_type": "code",
      "source": [
        "\n",
        "\n",
        "\n",
        "  import pandas as pd\n",
        "  import gradio as gr\n",
        "\n",
        "  # Load the dataset\n",
        "  data = pd.read_csv(\"/content/friends.csv\")\n",
        "\n",
        "  # Print the first few rows of the dataset\n",
        "  print(\"First few rows of the dataset:\")\n",
        "  print(data.head())\n",
        "\n",
        "\n",
        "  # Ensure there are no NaN values in the 'line' column\n",
        "  data['line'].fillna('', inplace=True)\n",
        "\n",
        "  # Define a function to find episode and season from dialogue\n",
        "  def find_episode_season(dialogue):\n",
        "      try:\n",
        "          row = data[data[\"line\"].str.contains(dialogue, case=False, na=False)]\n",
        "          if not row.empty:\n",
        "              season = row.iloc[0][\"season_number\"]\n",
        "              episode = row.iloc[0][\"episode_number\"]\n",
        "              character = row.iloc[0][\"character\"]\n",
        "              return f\"Season: {season}, Episode: {episode}, Character: {character}\"\n",
        "          else:\n",
        "              return \"Dialogue not found in dataset\"\n",
        "      except Exception as e:\n",
        "          return f\"An error occurred: {str(e)}\"\n",
        "\n",
        "  # Create Gradio interface\n",
        "  def create_interface():\n",
        "    with gr.Blocks() as demo:\n",
        "        gr.Markdown(\"# Friends Season, Episode, and Character Finder :)\")\n",
        "        gr.Markdown(\"Enter a dialogue from Friends and find out the season, episode it's from, and the character who says it.\")\n",
        "\n",
        "        with gr.Row():\n",
        "            with gr.Column():\n",
        "                dialogue_input = gr.Textbox(label=\"Enter Dialogue\")\n",
        "                output_text = gr.Textbox(label=\"Season, Episode, and Character\")\n",
        "                submit_btn = gr.Button(\"Find\")\n",
        "                clear_btn = gr.Button(\"Clear\")\n",
        "\n",
        "                submit_btn.click(find_episode_season, inputs=dialogue_input, outputs=output_text)\n",
        "                clear_btn.click(lambda: (\"\", \"\"), inputs=None, outputs=[dialogue_input, output_text])\n",
        "\n",
        "            with gr.Column():\n",
        "                gr.Image(\"https://media.giphy.com/media/Rhf0uSWt1P2TFqVMZK/giphy.gif\")\n",
        "\n",
        "    return demo\n",
        "\n",
        "# Launch the interface\n",
        "demo = create_interface()\n",
        "demo.launch()\n"
      ],
      "metadata": {
        "colab": {
          "base_uri": "https://localhost:8080/",
          "height": 1000
        },
        "id": "1IPmZpqmcw8j",
        "outputId": "e463fb4d-259c-4bcc-8672-40dea0257b47"
      },
      "execution_count": null,
      "outputs": [
        {
          "output_type": "stream",
          "name": "stdout",
          "text": [
            "First few rows of the dataset:\n",
            "   Unnamed: 0  season_number  episode_number  \\\n",
            "0           0              1               1   \n",
            "1           1              1               1   \n",
            "2           2              1               1   \n",
            "3           3              1               1   \n",
            "4           4              1               1   \n",
            "\n",
            "                                        episode_name character  \\\n",
            "0  the one where monica gets a new roommate (the ...    monica   \n",
            "1  the one where monica gets a new roommate (the ...      joey   \n",
            "2  the one where monica gets a new roommate (the ...  chandler   \n",
            "3  the one where monica gets a new roommate (the ...    phoebe   \n",
            "4  the one where monica gets a new roommate (the ...    phoebe   \n",
            "\n",
            "                                                line  \n",
            "0   there's nothing to tell! he's just some guy i...  \n",
            "1   c'mon, you're going out with the guy! there's...  \n",
            "2   all right joey, be nice.  so does he have a h...  \n",
            "3                           wait, does he eat chalk?  \n",
            "4   just, 'cause, i don't want her to go through ...  \n",
            "Setting queue=True in a Colab notebook requires sharing enabled. Setting `share=True` (you can turn this off by setting `share=False` in `launch()` explicitly).\n",
            "\n",
            "Colab notebook detected. To show errors in colab notebook, set debug=True in launch()\n",
            "Running on public URL: https://6ebea64ef1551eac6e.gradio.live\n",
            "\n",
            "This share link expires in 72 hours. For free permanent hosting and GPU upgrades, run `gradio deploy` from Terminal to deploy to Spaces (https://huggingface.co/spaces)\n"
          ]
        },
        {
          "output_type": "display_data",
          "data": {
            "text/plain": [
              "<IPython.core.display.HTML object>"
            ],
            "text/html": [
              "<div><iframe src=\"https://6ebea64ef1551eac6e.gradio.live\" width=\"100%\" height=\"500\" allow=\"autoplay; camera; microphone; clipboard-read; clipboard-write;\" frameborder=\"0\" allowfullscreen></iframe></div>"
            ]
          },
          "metadata": {}
        },
        {
          "output_type": "execute_result",
          "data": {
            "text/plain": []
          },
          "metadata": {},
          "execution_count": 14
        }
      ]
    }
  ]
}